{
 "cells": [
  {
   "cell_type": "markdown",
   "id": "1cc29aa2",
   "metadata": {},
   "source": [
    "ANÁLISIS DE ATAQUES COMÚNES A REDES DE TELECOMUNICACIONES\n",
    "Objetivo: Determinar heramientas de mitigación de ataques comúnes"
   ]
  },
  {
   "cell_type": "markdown",
   "id": "be23c308",
   "metadata": {},
   "source": [
    "Paso 1: Implimentación de librerías necesarias"
   ]
  },
  {
   "cell_type": "code",
   "execution_count": null,
   "id": "f98395be",
   "metadata": {},
   "outputs": [],
   "source": [
    "# Importación de librerías necesarias para el análisis de datos y visualización\n",
    "import pandas as pd\n",
    "import numpy as np\n",
    "import matplotlib.pyplot as plt\n",
    "import seaborn as sns\n",
    "import plotly.express as px"
   ]
  }
 ],
 "metadata": {
  "language_info": {
   "name": "python"
  }
 },
 "nbformat": 4,
 "nbformat_minor": 5
}
